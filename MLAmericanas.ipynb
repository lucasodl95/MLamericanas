{
  "cells": [
    {
      "cell_type": "code",
      "execution_count": 20,
      "metadata": {
        "id": "OSp-1Fkol2D4"
      },
      "outputs": [],
      "source": [
        "# Importação de bibliotecas necessárias\n",
        "import numpy as np  # Biblioteca para manipulação de arrays numéricos\n",
        "import matplotlib.pyplot as plt  # Biblioteca para visualização de dados\n",
        "import pandas as pd  # Biblioteca para manipulação e análise de dados\n",
        "from keras.models import Sequential  # Modelo sequencial de redes neurais\n",
        "from keras.layers import Dense, LSTM, Dropout  # Camadas para construção do modelo\n",
        "from sklearn.preprocessing import MinMaxScaler  # Para normalização dos dados\n",
        "\n",
        "\n",
        "##Link-Treinamento: https://drive.google.com/uc?id=1BgAUJFeJ1IW81wCcwQ-Hwk81-ZaIvZmZ\n",
        "## Link-Teste: https://drive.google.com/uc?id=1MSRZB9MW_1bv9NPwD6cb7o9mUl1XoGJ2"
      ]
    },
    {
      "cell_type": "code",
      "execution_count": 21,
      "metadata": {
        "id": "n6uQhFN7pTST"
      },
      "outputs": [],
      "source": [
        "# Leitura dos dados de treinamento e teste a partir de arquivos CSV\n",
        "# Os links para os arquivos CSV estão fornecidos nos comentários abaixo\n",
        "dataset_treino = pd.read_csv('C:\\\\Users\\\\user\\\\Desktop\\\\VsCode\\\\My\\\\Americanas\\\\AMER3.SA-Treinamento.csv')  # Dados de treinamento\n",
        "dataset_teste = pd.read_csv('C:\\\\Users\\\\user\\\\Desktop\\\\VsCode\\\\My\\\\Americanas\\\\AMER3.SA-Teste.csv')  # Dados de teste"
      ]
    },
    {
      "cell_type": "code",
      "execution_count": 22,
      "metadata": {},
      "outputs": [],
      "source": [
        "# Remoção de valores NaN (caso existam)\n",
        "dataset_treino = dataset_treino.dropna()"
      ]
    },
    {
      "cell_type": "code",
      "execution_count": 27,
      "metadata": {
        "colab": {
          "base_uri": "https://localhost:8080/",
          "height": 424
        },
        "id": "PdRdoPT2XpKS",
        "outputId": "81114a99-c007-46e6-f99d-2dacc45738c9"
      },
      "outputs": [
        {
          "data": {
            "text/plain": [
              "array([[41.949505],\n",
              "       [41.507931],\n",
              "       [40.174377],\n",
              "       ...,\n",
              "       [ 9.38    ],\n",
              "       [ 9.22    ],\n",
              "       [ 9.72    ]])"
            ]
          },
          "execution_count": 27,
          "metadata": {},
          "output_type": "execute_result"
        }
      ],
      "source": [
        "# Extração apenas da coluna de preços de abertura dos dados de treinamento\n",
        "treino_set = dataset_treino.iloc[:, 1:2].values\n",
        "\n",
        "treino_set"
      ]
    },
    {
      "cell_type": "code",
      "execution_count": 28,
      "metadata": {
        "id": "BwNcupnqqP-a"
      },
      "outputs": [],
      "source": [
        "# Normalização dos dados de treinamento entre 0 e 1\n",
        "sc = MinMaxScaler(feature_range=(0, 1))\n",
        "treino_set_scaled = sc.fit_transform(treino_set)"
      ]
    },
    {
      "cell_type": "code",
      "execution_count": 29,
      "metadata": {
        "id": "Nwg5EhxuqxgW"
      },
      "outputs": [],
      "source": [
        "# Preparação dos dados de treinamento\n",
        "X_treino = []  # Lista para armazenar as entradas do modelo\n",
        "y_treino = []  # Lista para armazenar as saídas correspondentes\n"
      ]
    },
    {
      "cell_type": "code",
      "execution_count": 30,
      "metadata": {},
      "outputs": [],
      "source": [
        "# Loop para criar janelas temporais de tamanho 20 para previsão\n",
        "for i in range(20, len(treino_set_scaled)):\n",
        "    X_treino.append(treino_set_scaled[i-20:i, 0])  # Entrada é um array de 20 dias anteriores\n",
        "    y_treino.append(treino_set_scaled[i, 0])  # Saída é o próximo dia após os 20 dias anteriores"
      ]
    },
    {
      "cell_type": "code",
      "execution_count": 31,
      "metadata": {
        "id": "iM_RPskGrTn3"
      },
      "outputs": [],
      "source": [
        "# Conversão das listas em arrays numpy\n",
        "X_treino, y_treino = np.array(X_treino), np.array(y_treino)"
      ]
    },
    {
      "cell_type": "code",
      "execution_count": 32,
      "metadata": {
        "colab": {
          "base_uri": "https://localhost:8080/"
        },
        "id": "7ASg5iIZt8ZA",
        "outputId": "7644279c-e52e-405c-e5ed-9ba35e4215ca"
      },
      "outputs": [],
      "source": [
        "# Reshape dos dados para o formato aceito pelo modelo LSTM (número de amostras, número de timesteps, número de features)\n",
        "X_treino = np.reshape(X_treino, (X_treino.shape[0], X_treino.shape[1], 1))"
      ]
    },
    {
      "cell_type": "code",
      "execution_count": 33,
      "metadata": {
        "id": "98bcM_Dkl_PW"
      },
      "outputs": [],
      "source": [
        "# Inicialização do modelo LSTM\n",
        "regressor = Sequential()"
      ]
    },
    {
      "cell_type": "code",
      "execution_count": 34,
      "metadata": {},
      "outputs": [],
      "source": [
        "# Adição das camadas LSTM ao modelo com Dropout para evitar overfitting\n",
        "regressor.add(LSTM(units=70, return_sequences=True, input_shape=(X_treino.shape[1], 1)))\n",
        "regressor.add(Dropout(0.4))\n",
        "\n",
        "regressor.add(LSTM(units=70, return_sequences=True))\n",
        "regressor.add(Dropout(0.4))\n",
        "\n",
        "regressor.add(LSTM(units=70, return_sequences=True))\n",
        "regressor.add(Dropout(0.4))\n",
        "\n",
        "regressor.add(LSTM(units=70))\n",
        "regressor.add(Dropout(0.4))"
      ]
    },
    {
      "cell_type": "code",
      "execution_count": 35,
      "metadata": {
        "id": "X4lozj1ns6lq"
      },
      "outputs": [],
      "source": [
        "# Adição da camada de saída com uma única unidade\n",
        "regressor.add(Dense(units=1))"
      ]
    },
    {
      "cell_type": "code",
      "execution_count": 36,
      "metadata": {
        "id": "0kM0NFdktC3y"
      },
      "outputs": [],
      "source": [
        "# Compilação do modelo com otimizador 'Nadam' e função de perda 'mean_squared_error'\n",
        "regressor.compile(optimizer='Nadam', loss='mean_squared_error')"
      ]
    },
    {
      "cell_type": "code",
      "execution_count": 37,
      "metadata": {
        "colab": {
          "base_uri": "https://localhost:8080/"
        },
        "id": "A9sqfMIGu04Y",
        "outputId": "d8152f11-1ea6-41b1-babb-2b9b8aff7dec"
      },
      "outputs": [
        {
          "name": "stdout",
          "output_type": "stream",
          "text": [
            "Epoch 1/100\n",
            "101/101 [==============================] - 10s 26ms/step - loss: 0.0053\n",
            "Epoch 2/100\n",
            "101/101 [==============================] - 3s 25ms/step - loss: 0.0024\n",
            "Epoch 3/100\n",
            "101/101 [==============================] - 3s 26ms/step - loss: 0.0023\n",
            "Epoch 4/100\n",
            "101/101 [==============================] - 3s 26ms/step - loss: 0.0021\n",
            "Epoch 5/100\n",
            "101/101 [==============================] - 3s 26ms/step - loss: 0.0020\n",
            "Epoch 6/100\n",
            "101/101 [==============================] - 3s 26ms/step - loss: 0.0016\n",
            "Epoch 7/100\n",
            "101/101 [==============================] - 3s 26ms/step - loss: 0.0019\n",
            "Epoch 8/100\n",
            "101/101 [==============================] - 3s 27ms/step - loss: 0.0015\n",
            "Epoch 9/100\n",
            "101/101 [==============================] - 3s 26ms/step - loss: 0.0014\n",
            "Epoch 10/100\n",
            "101/101 [==============================] - 3s 26ms/step - loss: 0.0013\n",
            "Epoch 11/100\n",
            "101/101 [==============================] - 3s 26ms/step - loss: 0.0013\n",
            "Epoch 12/100\n",
            "101/101 [==============================] - 3s 26ms/step - loss: 0.0013\n",
            "Epoch 13/100\n",
            "101/101 [==============================] - 3s 26ms/step - loss: 0.0015\n",
            "Epoch 14/100\n",
            "101/101 [==============================] - 3s 26ms/step - loss: 0.0013\n",
            "Epoch 15/100\n",
            "101/101 [==============================] - 3s 27ms/step - loss: 0.0012\n",
            "Epoch 16/100\n",
            "101/101 [==============================] - 3s 27ms/step - loss: 0.0014\n",
            "Epoch 17/100\n",
            "101/101 [==============================] - 3s 27ms/step - loss: 0.0012\n",
            "Epoch 18/100\n",
            "101/101 [==============================] - 3s 27ms/step - loss: 0.0011\n",
            "Epoch 19/100\n",
            "101/101 [==============================] - 3s 27ms/step - loss: 0.0011\n",
            "Epoch 20/100\n",
            "101/101 [==============================] - 3s 27ms/step - loss: 0.0011\n",
            "Epoch 21/100\n",
            "101/101 [==============================] - 3s 28ms/step - loss: 0.0011\n",
            "Epoch 22/100\n",
            "101/101 [==============================] - 3s 27ms/step - loss: 0.0010\n",
            "Epoch 23/100\n",
            "101/101 [==============================] - 3s 26ms/step - loss: 0.0011\n",
            "Epoch 24/100\n",
            "101/101 [==============================] - 3s 26ms/step - loss: 0.0011\n",
            "Epoch 25/100\n",
            "101/101 [==============================] - 3s 26ms/step - loss: 0.0010\n",
            "Epoch 26/100\n",
            "101/101 [==============================] - 3s 27ms/step - loss: 9.9441e-04\n",
            "Epoch 27/100\n",
            "101/101 [==============================] - 3s 26ms/step - loss: 0.0010\n",
            "Epoch 28/100\n",
            "101/101 [==============================] - 3s 27ms/step - loss: 9.7908e-04\n",
            "Epoch 29/100\n",
            "101/101 [==============================] - 3s 27ms/step - loss: 9.2637e-04\n",
            "Epoch 30/100\n",
            "101/101 [==============================] - 3s 27ms/step - loss: 8.6765e-04\n",
            "Epoch 31/100\n",
            "101/101 [==============================] - 3s 27ms/step - loss: 9.6976e-04\n",
            "Epoch 32/100\n",
            "101/101 [==============================] - 3s 28ms/step - loss: 0.0010\n",
            "Epoch 33/100\n",
            "101/101 [==============================] - 3s 28ms/step - loss: 0.0010\n",
            "Epoch 34/100\n",
            "101/101 [==============================] - 3s 26ms/step - loss: 9.0238e-04\n",
            "Epoch 35/100\n",
            "101/101 [==============================] - 3s 27ms/step - loss: 0.0010\n",
            "Epoch 36/100\n",
            "101/101 [==============================] - 3s 26ms/step - loss: 9.5437e-04\n",
            "Epoch 37/100\n",
            "101/101 [==============================] - 3s 27ms/step - loss: 9.3586e-04\n",
            "Epoch 38/100\n",
            "101/101 [==============================] - 3s 27ms/step - loss: 9.0093e-04\n",
            "Epoch 39/100\n",
            "101/101 [==============================] - 3s 27ms/step - loss: 9.5510e-04\n",
            "Epoch 40/100\n",
            "101/101 [==============================] - 3s 27ms/step - loss: 8.4391e-04\n",
            "Epoch 41/100\n",
            "101/101 [==============================] - 3s 27ms/step - loss: 8.6149e-04\n",
            "Epoch 42/100\n",
            "101/101 [==============================] - 3s 26ms/step - loss: 9.0701e-04\n",
            "Epoch 43/100\n",
            "101/101 [==============================] - 3s 27ms/step - loss: 7.3942e-04\n",
            "Epoch 44/100\n",
            "101/101 [==============================] - 3s 26ms/step - loss: 9.5312e-04\n",
            "Epoch 45/100\n",
            "101/101 [==============================] - 3s 26ms/step - loss: 9.2250e-04\n",
            "Epoch 46/100\n",
            "101/101 [==============================] - 3s 27ms/step - loss: 8.4886e-04\n",
            "Epoch 47/100\n",
            "101/101 [==============================] - 3s 27ms/step - loss: 8.3158e-04\n",
            "Epoch 48/100\n",
            "101/101 [==============================] - 3s 27ms/step - loss: 7.9663e-04\n",
            "Epoch 49/100\n",
            "101/101 [==============================] - 3s 27ms/step - loss: 8.3158e-04\n",
            "Epoch 50/100\n",
            "101/101 [==============================] - 3s 27ms/step - loss: 7.6625e-04\n",
            "Epoch 51/100\n",
            "101/101 [==============================] - 3s 27ms/step - loss: 8.8932e-04\n",
            "Epoch 52/100\n",
            "101/101 [==============================] - 3s 27ms/step - loss: 7.9501e-04\n",
            "Epoch 53/100\n",
            "101/101 [==============================] - 3s 27ms/step - loss: 8.6526e-04\n",
            "Epoch 54/100\n",
            "101/101 [==============================] - 3s 27ms/step - loss: 8.6562e-04\n",
            "Epoch 55/100\n",
            "101/101 [==============================] - 3s 27ms/step - loss: 7.4721e-04\n",
            "Epoch 56/100\n",
            "101/101 [==============================] - 3s 27ms/step - loss: 7.9240e-04\n",
            "Epoch 57/100\n",
            "101/101 [==============================] - 3s 27ms/step - loss: 7.1264e-04\n",
            "Epoch 58/100\n",
            "101/101 [==============================] - 3s 27ms/step - loss: 8.9355e-04\n",
            "Epoch 59/100\n",
            "101/101 [==============================] - 3s 27ms/step - loss: 8.2634e-04\n",
            "Epoch 60/100\n",
            "101/101 [==============================] - 3s 27ms/step - loss: 8.7619e-04\n",
            "Epoch 61/100\n",
            "101/101 [==============================] - 3s 27ms/step - loss: 8.5373e-04\n",
            "Epoch 62/100\n",
            "101/101 [==============================] - 3s 30ms/step - loss: 7.5122e-04\n",
            "Epoch 63/100\n",
            "101/101 [==============================] - 3s 28ms/step - loss: 7.6671e-04\n",
            "Epoch 64/100\n",
            "101/101 [==============================] - 3s 32ms/step - loss: 7.5722e-04\n",
            "Epoch 65/100\n",
            "101/101 [==============================] - 3s 34ms/step - loss: 7.1541e-04\n",
            "Epoch 66/100\n",
            "101/101 [==============================] - 3s 33ms/step - loss: 7.5296e-04\n",
            "Epoch 67/100\n",
            "101/101 [==============================] - 3s 34ms/step - loss: 8.2236e-04\n",
            "Epoch 68/100\n",
            "101/101 [==============================] - 4s 36ms/step - loss: 7.3559e-04\n",
            "Epoch 69/100\n",
            "101/101 [==============================] - 3s 33ms/step - loss: 6.5699e-04\n",
            "Epoch 70/100\n",
            "101/101 [==============================] - 3s 33ms/step - loss: 7.4465e-04\n",
            "Epoch 71/100\n",
            "101/101 [==============================] - 3s 33ms/step - loss: 7.0029e-04\n",
            "Epoch 72/100\n",
            "101/101 [==============================] - 3s 33ms/step - loss: 7.2187e-04\n",
            "Epoch 73/100\n",
            "101/101 [==============================] - 3s 33ms/step - loss: 7.6562e-04\n",
            "Epoch 74/100\n",
            "101/101 [==============================] - 3s 32ms/step - loss: 8.2700e-04\n",
            "Epoch 75/100\n",
            "101/101 [==============================] - 3s 33ms/step - loss: 7.0397e-04\n",
            "Epoch 76/100\n",
            "101/101 [==============================] - 3s 31ms/step - loss: 7.1209e-04\n",
            "Epoch 77/100\n",
            "101/101 [==============================] - 3s 31ms/step - loss: 6.8734e-04\n",
            "Epoch 78/100\n",
            "101/101 [==============================] - 3s 31ms/step - loss: 7.7762e-04\n",
            "Epoch 79/100\n",
            "101/101 [==============================] - 3s 31ms/step - loss: 7.0157e-04\n",
            "Epoch 80/100\n",
            "101/101 [==============================] - 3s 31ms/step - loss: 7.2831e-04\n",
            "Epoch 81/100\n",
            "101/101 [==============================] - 3s 31ms/step - loss: 7.3534e-04\n",
            "Epoch 82/100\n",
            "101/101 [==============================] - 3s 31ms/step - loss: 6.6526e-04\n",
            "Epoch 83/100\n",
            "101/101 [==============================] - 3s 31ms/step - loss: 7.2809e-04\n",
            "Epoch 84/100\n",
            "101/101 [==============================] - 3s 32ms/step - loss: 6.7825e-04\n",
            "Epoch 85/100\n",
            "101/101 [==============================] - 3s 32ms/step - loss: 7.4651e-04\n",
            "Epoch 86/100\n",
            "101/101 [==============================] - 3s 27ms/step - loss: 8.0420e-04\n",
            "Epoch 87/100\n",
            "101/101 [==============================] - 3s 27ms/step - loss: 7.7216e-04\n",
            "Epoch 88/100\n",
            "101/101 [==============================] - 3s 27ms/step - loss: 6.9987e-04\n",
            "Epoch 89/100\n",
            "101/101 [==============================] - 3s 27ms/step - loss: 7.2086e-04\n",
            "Epoch 90/100\n",
            "101/101 [==============================] - 3s 27ms/step - loss: 7.2448e-04\n",
            "Epoch 91/100\n",
            "101/101 [==============================] - 3s 27ms/step - loss: 7.1438e-04\n",
            "Epoch 92/100\n",
            "101/101 [==============================] - 3s 27ms/step - loss: 8.2182e-04\n",
            "Epoch 93/100\n",
            "101/101 [==============================] - 3s 27ms/step - loss: 7.5530e-04\n",
            "Epoch 94/100\n",
            "101/101 [==============================] - 3s 27ms/step - loss: 7.6479e-04\n",
            "Epoch 95/100\n",
            "101/101 [==============================] - 3s 27ms/step - loss: 7.2217e-04\n",
            "Epoch 96/100\n",
            "101/101 [==============================] - 3s 27ms/step - loss: 6.4774e-04\n",
            "Epoch 97/100\n",
            "101/101 [==============================] - 3s 27ms/step - loss: 6.7653e-04\n",
            "Epoch 98/100\n",
            "101/101 [==============================] - 3s 27ms/step - loss: 7.9696e-04\n",
            "Epoch 99/100\n",
            "101/101 [==============================] - 3s 27ms/step - loss: 7.3855e-04\n",
            "Epoch 100/100\n",
            "101/101 [==============================] - 3s 27ms/step - loss: 7.8779e-04\n"
          ]
        },
        {
          "data": {
            "text/plain": [
              "<keras.src.callbacks.History at 0x1a30b2a4e90>"
            ]
          },
          "execution_count": 37,
          "metadata": {},
          "output_type": "execute_result"
        }
      ],
      "source": [
        "# Treinamento do modelo com os dados de treinamento\n",
        "regressor.fit(X_treino, y_treino, epochs=100, batch_size=32)"
      ]
    },
    {
      "cell_type": "code",
      "execution_count": 38,
      "metadata": {
        "id": "MA8BXnVSvQ7H"
      },
      "outputs": [],
      "source": [
        "# Preparação dos dados de teste\n",
        "real_preco_acao = dataset_teste.iloc[:, 1:2].values"
      ]
    },
    {
      "cell_type": "code",
      "execution_count": 39,
      "metadata": {},
      "outputs": [],
      "source": [
        "# Concatenação dos dados de treinamento e teste para garantir continuidade\n",
        "dataset_total = pd.concat((dataset_treino['Open'], dataset_teste['Open']), axis=0)"
      ]
    },
    {
      "cell_type": "code",
      "execution_count": 40,
      "metadata": {},
      "outputs": [],
      "source": [
        "# Extração dos últimos 20 dias de preços para previsão\n",
        "inputs = dataset_total[len(dataset_total) - len(dataset_teste) - 20:].values\n",
        "inputs = inputs.reshape(-1, 1)"
      ]
    },
    {
      "cell_type": "code",
      "execution_count": 41,
      "metadata": {},
      "outputs": [],
      "source": [
        "# Normalização dos dados de entrada\n",
        "inputs = sc.transform(inputs)"
      ]
    },
    {
      "cell_type": "code",
      "execution_count": 42,
      "metadata": {
        "colab": {
          "base_uri": "https://localhost:8080/"
        },
        "id": "Ntha8aWD1psX",
        "outputId": "dd809e60-ace6-4a30-8456-e95d5110bd98"
      },
      "outputs": [],
      "source": [
        "# Preparação dos dados de teste em formato similar ao de treinamento\n",
        "X_teste = []\n",
        "\n",
        "for i in range(20, 40):\n",
        "    X_teste.append(inputs[i-20:i, 0])\n",
        "\n",
        "X_teste = np.array(X_teste)\n",
        "X_teste = np.reshape(X_teste, (X_teste.shape[0], X_teste.shape[1], 1))"
      ]
    },
    {
      "cell_type": "code",
      "execution_count": 43,
      "metadata": {},
      "outputs": [
        {
          "name": "stdout",
          "output_type": "stream",
          "text": [
            "1/1 [==============================] - 1s 1s/step\n"
          ]
        }
      ],
      "source": [
        "# Previsão dos preços de ação com o modelo treinado\n",
        "preco_acao_previsto = regressor.predict(X_teste)"
      ]
    },
    {
      "cell_type": "code",
      "execution_count": 44,
      "metadata": {},
      "outputs": [],
      "source": [
        "# Desnormalização dos preços previstos para obter valores em escala original\n",
        "preco_acao_previsto = sc.inverse_transform(preco_acao_previsto)"
      ]
    },
    {
      "cell_type": "code",
      "execution_count": 45,
      "metadata": {
        "colab": {
          "base_uri": "https://localhost:8080/",
          "height": 295
        },
        "id": "N1cDHdvW2Q9m",
        "outputId": "000f6b14-ec69-4160-afbd-a5881648a9bd"
      },
      "outputs": [
        {
          "data": {
            "image/png": "[encoded data removed]",
            "text/plain": [
              "<Figure size 640x480 with 1 Axes>"
            ]
          },
          "metadata": {},
          "output_type": "display_data"
        }
      ],
      "source": [
        "# Visualização dos resultados\n",
        "plt.plot(real_preco_acao, color='red', label='Preço Real')\n",
        "plt.plot(preco_acao_previsto, color='blue', label='Previsão com RNA')\n",
        "plt.title('Preço da Ação')\n",
        "plt.xlabel('Tempo')\n",
        "plt.ylabel('Preço')\n",
        "plt.legend()\n",
        "plt.show()"
      ]
    }
  ],
  "metadata": {
    "colab": {
      "authorship_tag": "ABX9TyPwTHU1IAf0DQq3fu3ENhoG",
      "include_colab_link": true,
      "provenance": []
    },
    "kernelspec": {
      "display_name": "Python 3",
      "name": "python3"
    },
    "language_info": {
      "codemirror_mode": {
        "name": "ipython",
        "version": 3
      },
      "file_extension": ".py",
      "mimetype": "text/x-python",
      "name": "python",
      "nbconvert_exporter": "python",
      "pygments_lexer": "ipython3",
      "version": "3.11.4"
    }
  },
  "nbformat": 4,
  "nbformat_minor": 0
}
